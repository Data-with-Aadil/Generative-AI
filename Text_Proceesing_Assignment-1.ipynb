{
 "cells": [
  {
   "cell_type": "code",
   "execution_count": 1,
   "id": "dc99dc8b",
   "metadata": {},
   "outputs": [],
   "source": [
    "import os \n",
    "import pandas as pd "
   ]
  },
  {
   "cell_type": "code",
   "execution_count": 2,
   "id": "3fe36ea5",
   "metadata": {},
   "outputs": [],
   "source": [
    "data = pd.read_csv('sample.csv')"
   ]
  },
  {
   "cell_type": "code",
   "execution_count": 3,
   "id": "f0b179d9",
   "metadata": {},
   "outputs": [
    {
     "data": {
      "text/html": [
       "<div>\n",
       "<style scoped>\n",
       "    .dataframe tbody tr th:only-of-type {\n",
       "        vertical-align: middle;\n",
       "    }\n",
       "\n",
       "    .dataframe tbody tr th {\n",
       "        vertical-align: top;\n",
       "    }\n",
       "\n",
       "    .dataframe thead th {\n",
       "        text-align: right;\n",
       "    }\n",
       "</style>\n",
       "<table border=\"1\" class=\"dataframe\">\n",
       "  <thead>\n",
       "    <tr style=\"text-align: right;\">\n",
       "      <th></th>\n",
       "      <th>tweet_id</th>\n",
       "      <th>author_id</th>\n",
       "      <th>inbound</th>\n",
       "      <th>created_at</th>\n",
       "      <th>text</th>\n",
       "      <th>response_tweet_id</th>\n",
       "      <th>in_response_to_tweet_id</th>\n",
       "    </tr>\n",
       "  </thead>\n",
       "  <tbody>\n",
       "    <tr>\n",
       "      <th>0</th>\n",
       "      <td>119237</td>\n",
       "      <td>105834</td>\n",
       "      <td>True</td>\n",
       "      <td>Wed Oct 11 06:55:44 +0000 2017</td>\n",
       "      <td>@AppleSupport causing the reply to be disregar...</td>\n",
       "      <td>119236</td>\n",
       "      <td>NaN</td>\n",
       "    </tr>\n",
       "    <tr>\n",
       "      <th>1</th>\n",
       "      <td>119238</td>\n",
       "      <td>ChaseSupport</td>\n",
       "      <td>False</td>\n",
       "      <td>Wed Oct 11 13:25:49 +0000 2017</td>\n",
       "      <td>@105835 Your business means a lot to us. Pleas...</td>\n",
       "      <td>NaN</td>\n",
       "      <td>119239.0</td>\n",
       "    </tr>\n",
       "    <tr>\n",
       "      <th>2</th>\n",
       "      <td>119239</td>\n",
       "      <td>105835</td>\n",
       "      <td>True</td>\n",
       "      <td>Wed Oct 11 13:00:09 +0000 2017</td>\n",
       "      <td>@76328 I really hope you all change but I'm su...</td>\n",
       "      <td>119238</td>\n",
       "      <td>NaN</td>\n",
       "    </tr>\n",
       "    <tr>\n",
       "      <th>3</th>\n",
       "      <td>119240</td>\n",
       "      <td>VirginTrains</td>\n",
       "      <td>False</td>\n",
       "      <td>Tue Oct 10 15:16:08 +0000 2017</td>\n",
       "      <td>@105836 LiveChat is online at the moment - htt...</td>\n",
       "      <td>119241</td>\n",
       "      <td>119242.0</td>\n",
       "    </tr>\n",
       "    <tr>\n",
       "      <th>4</th>\n",
       "      <td>119241</td>\n",
       "      <td>105836</td>\n",
       "      <td>True</td>\n",
       "      <td>Tue Oct 10 15:17:21 +0000 2017</td>\n",
       "      <td>@VirginTrains see attached error message. I've...</td>\n",
       "      <td>119243</td>\n",
       "      <td>119240.0</td>\n",
       "    </tr>\n",
       "  </tbody>\n",
       "</table>\n",
       "</div>"
      ],
      "text/plain": [
       "   tweet_id     author_id  inbound                      created_at  \\\n",
       "0    119237        105834     True  Wed Oct 11 06:55:44 +0000 2017   \n",
       "1    119238  ChaseSupport    False  Wed Oct 11 13:25:49 +0000 2017   \n",
       "2    119239        105835     True  Wed Oct 11 13:00:09 +0000 2017   \n",
       "3    119240  VirginTrains    False  Tue Oct 10 15:16:08 +0000 2017   \n",
       "4    119241        105836     True  Tue Oct 10 15:17:21 +0000 2017   \n",
       "\n",
       "                                                text response_tweet_id  \\\n",
       "0  @AppleSupport causing the reply to be disregar...            119236   \n",
       "1  @105835 Your business means a lot to us. Pleas...               NaN   \n",
       "2  @76328 I really hope you all change but I'm su...            119238   \n",
       "3  @105836 LiveChat is online at the moment - htt...            119241   \n",
       "4  @VirginTrains see attached error message. I've...            119243   \n",
       "\n",
       "   in_response_to_tweet_id  \n",
       "0                      NaN  \n",
       "1                 119239.0  \n",
       "2                      NaN  \n",
       "3                 119242.0  \n",
       "4                 119240.0  "
      ]
     },
     "execution_count": 3,
     "metadata": {},
     "output_type": "execute_result"
    }
   ],
   "source": [
    "data.head() "
   ]
  },
  {
   "cell_type": "code",
   "execution_count": 4,
   "id": "7641521e",
   "metadata": {},
   "outputs": [
    {
     "data": {
      "text/html": [
       "<div>\n",
       "<style scoped>\n",
       "    .dataframe tbody tr th:only-of-type {\n",
       "        vertical-align: middle;\n",
       "    }\n",
       "\n",
       "    .dataframe tbody tr th {\n",
       "        vertical-align: top;\n",
       "    }\n",
       "\n",
       "    .dataframe thead th {\n",
       "        text-align: right;\n",
       "    }\n",
       "</style>\n",
       "<table border=\"1\" class=\"dataframe\">\n",
       "  <thead>\n",
       "    <tr style=\"text-align: right;\">\n",
       "      <th></th>\n",
       "      <th>tweet_id</th>\n",
       "      <th>author_id</th>\n",
       "      <th>inbound</th>\n",
       "      <th>created_at</th>\n",
       "      <th>text</th>\n",
       "      <th>response_tweet_id</th>\n",
       "      <th>in_response_to_tweet_id</th>\n",
       "    </tr>\n",
       "  </thead>\n",
       "  <tbody>\n",
       "    <tr>\n",
       "      <th>88</th>\n",
       "      <td>119330</td>\n",
       "      <td>105859</td>\n",
       "      <td>True</td>\n",
       "      <td>Wed Oct 11 13:50:42 +0000 2017</td>\n",
       "      <td>@105860 I wish Amazon had an option of where I...</td>\n",
       "      <td>119329</td>\n",
       "      <td>119331.0</td>\n",
       "    </tr>\n",
       "    <tr>\n",
       "      <th>89</th>\n",
       "      <td>119331</td>\n",
       "      <td>105860</td>\n",
       "      <td>True</td>\n",
       "      <td>Wed Oct 11 13:47:14 +0000 2017</td>\n",
       "      <td>They reschedule my shit for tomorrow https://t...</td>\n",
       "      <td>119330</td>\n",
       "      <td>NaN</td>\n",
       "    </tr>\n",
       "    <tr>\n",
       "      <th>90</th>\n",
       "      <td>119332</td>\n",
       "      <td>Tesco</td>\n",
       "      <td>False</td>\n",
       "      <td>Wed Oct 11 13:34:06 +0000 2017</td>\n",
       "      <td>@105861 Hey Sara, sorry to hear of the issues ...</td>\n",
       "      <td>119333</td>\n",
       "      <td>119334.0</td>\n",
       "    </tr>\n",
       "    <tr>\n",
       "      <th>91</th>\n",
       "      <td>119333</td>\n",
       "      <td>105861</td>\n",
       "      <td>True</td>\n",
       "      <td>Wed Oct 11 14:05:18 +0000 2017</td>\n",
       "      <td>@Tesco bit of both - finding the layout cumber...</td>\n",
       "      <td>119335,119336</td>\n",
       "      <td>119332.0</td>\n",
       "    </tr>\n",
       "    <tr>\n",
       "      <th>92</th>\n",
       "      <td>119335</td>\n",
       "      <td>Tesco</td>\n",
       "      <td>False</td>\n",
       "      <td>Wed Oct 11 15:38:07 +0000 2017</td>\n",
       "      <td>@105861 If that doesn't help please DM your fu...</td>\n",
       "      <td>NaN</td>\n",
       "      <td>119333.0</td>\n",
       "    </tr>\n",
       "  </tbody>\n",
       "</table>\n",
       "</div>"
      ],
      "text/plain": [
       "    tweet_id author_id  inbound                      created_at  \\\n",
       "88    119330    105859     True  Wed Oct 11 13:50:42 +0000 2017   \n",
       "89    119331    105860     True  Wed Oct 11 13:47:14 +0000 2017   \n",
       "90    119332     Tesco    False  Wed Oct 11 13:34:06 +0000 2017   \n",
       "91    119333    105861     True  Wed Oct 11 14:05:18 +0000 2017   \n",
       "92    119335     Tesco    False  Wed Oct 11 15:38:07 +0000 2017   \n",
       "\n",
       "                                                 text response_tweet_id  \\\n",
       "88  @105860 I wish Amazon had an option of where I...            119329   \n",
       "89  They reschedule my shit for tomorrow https://t...            119330   \n",
       "90  @105861 Hey Sara, sorry to hear of the issues ...            119333   \n",
       "91  @Tesco bit of both - finding the layout cumber...     119335,119336   \n",
       "92  @105861 If that doesn't help please DM your fu...               NaN   \n",
       "\n",
       "    in_response_to_tweet_id  \n",
       "88                 119331.0  \n",
       "89                      NaN  \n",
       "90                 119334.0  \n",
       "91                 119332.0  \n",
       "92                 119333.0  "
      ]
     },
     "execution_count": 4,
     "metadata": {},
     "output_type": "execute_result"
    }
   ],
   "source": [
    "data.tail() "
   ]
  },
  {
   "cell_type": "code",
   "execution_count": 5,
   "id": "7dc3d6d2",
   "metadata": {},
   "outputs": [
    {
     "data": {
      "text/html": [
       "<div>\n",
       "<style scoped>\n",
       "    .dataframe tbody tr th:only-of-type {\n",
       "        vertical-align: middle;\n",
       "    }\n",
       "\n",
       "    .dataframe tbody tr th {\n",
       "        vertical-align: top;\n",
       "    }\n",
       "\n",
       "    .dataframe thead th {\n",
       "        text-align: right;\n",
       "    }\n",
       "</style>\n",
       "<table border=\"1\" class=\"dataframe\">\n",
       "  <thead>\n",
       "    <tr style=\"text-align: right;\">\n",
       "      <th></th>\n",
       "      <th>tweet_id</th>\n",
       "      <th>author_id</th>\n",
       "      <th>inbound</th>\n",
       "      <th>created_at</th>\n",
       "      <th>text</th>\n",
       "      <th>response_tweet_id</th>\n",
       "      <th>in_response_to_tweet_id</th>\n",
       "    </tr>\n",
       "  </thead>\n",
       "  <tbody>\n",
       "    <tr>\n",
       "      <th>41</th>\n",
       "      <td>119281</td>\n",
       "      <td>SpotifyCares</td>\n",
       "      <td>False</td>\n",
       "      <td>Wed Oct 11 13:31:32 +0000 2017</td>\n",
       "      <td>@105847 Hi Harry! Help's here. Can you check i...</td>\n",
       "      <td>119282</td>\n",
       "      <td>119283.0</td>\n",
       "    </tr>\n",
       "    <tr>\n",
       "      <th>34</th>\n",
       "      <td>119274</td>\n",
       "      <td>82476</td>\n",
       "      <td>True</td>\n",
       "      <td>Wed Oct 11 12:50:07 +0000 2017</td>\n",
       "      <td>@O2 I received this a few weeks ago, since the...</td>\n",
       "      <td>119273</td>\n",
       "      <td>NaN</td>\n",
       "    </tr>\n",
       "    <tr>\n",
       "      <th>55</th>\n",
       "      <td>119295</td>\n",
       "      <td>SouthwestAir</td>\n",
       "      <td>False</td>\n",
       "      <td>Wed Oct 11 13:39:32 +0000 2017</td>\n",
       "      <td>@105850 Once the points load and you hit the n...</td>\n",
       "      <td>119296</td>\n",
       "      <td>119297.0</td>\n",
       "    </tr>\n",
       "    <tr>\n",
       "      <th>91</th>\n",
       "      <td>119333</td>\n",
       "      <td>105861</td>\n",
       "      <td>True</td>\n",
       "      <td>Wed Oct 11 14:05:18 +0000 2017</td>\n",
       "      <td>@Tesco bit of both - finding the layout cumber...</td>\n",
       "      <td>119335,119336</td>\n",
       "      <td>119332.0</td>\n",
       "    </tr>\n",
       "    <tr>\n",
       "      <th>44</th>\n",
       "      <td>119285</td>\n",
       "      <td>105847</td>\n",
       "      <td>True</td>\n",
       "      <td>Thu Oct 12 10:25:35 +0000 2017</td>\n",
       "      <td>@SpotifyCares problem has come back again toda...</td>\n",
       "      <td>119286</td>\n",
       "      <td>119284.0</td>\n",
       "    </tr>\n",
       "  </tbody>\n",
       "</table>\n",
       "</div>"
      ],
      "text/plain": [
       "    tweet_id     author_id  inbound                      created_at  \\\n",
       "41    119281  SpotifyCares    False  Wed Oct 11 13:31:32 +0000 2017   \n",
       "34    119274         82476     True  Wed Oct 11 12:50:07 +0000 2017   \n",
       "55    119295  SouthwestAir    False  Wed Oct 11 13:39:32 +0000 2017   \n",
       "91    119333        105861     True  Wed Oct 11 14:05:18 +0000 2017   \n",
       "44    119285        105847     True  Thu Oct 12 10:25:35 +0000 2017   \n",
       "\n",
       "                                                 text response_tweet_id  \\\n",
       "41  @105847 Hi Harry! Help's here. Can you check i...            119282   \n",
       "34  @O2 I received this a few weeks ago, since the...            119273   \n",
       "55  @105850 Once the points load and you hit the n...            119296   \n",
       "91  @Tesco bit of both - finding the layout cumber...     119335,119336   \n",
       "44  @SpotifyCares problem has come back again toda...            119286   \n",
       "\n",
       "    in_response_to_tweet_id  \n",
       "41                 119283.0  \n",
       "34                      NaN  \n",
       "55                 119297.0  \n",
       "91                 119332.0  \n",
       "44                 119284.0  "
      ]
     },
     "execution_count": 5,
     "metadata": {},
     "output_type": "execute_result"
    }
   ],
   "source": [
    "data.sample(5) "
   ]
  },
  {
   "cell_type": "code",
   "execution_count": 6,
   "id": "27a3cc42",
   "metadata": {},
   "outputs": [
    {
     "data": {
      "text/plain": [
       "0     @AppleSupport causing the reply to be disregar...\n",
       "1     @105835 Your business means a lot to us. Pleas...\n",
       "2     @76328 I really hope you all change but I'm su...\n",
       "3     @105836 LiveChat is online at the moment - htt...\n",
       "4     @VirginTrains see attached error message. I've...\n",
       "                            ...                        \n",
       "88    @105860 I wish Amazon had an option of where I...\n",
       "89    They reschedule my shit for tomorrow https://t...\n",
       "90    @105861 Hey Sara, sorry to hear of the issues ...\n",
       "91    @Tesco bit of both - finding the layout cumber...\n",
       "92    @105861 If that doesn't help please DM your fu...\n",
       "Name: text, Length: 93, dtype: object"
      ]
     },
     "execution_count": 6,
     "metadata": {},
     "output_type": "execute_result"
    }
   ],
   "source": [
    "data['text'] "
   ]
  },
  {
   "cell_type": "code",
   "execution_count": 7,
   "id": "b4601506",
   "metadata": {},
   "outputs": [
    {
     "data": {
      "text/plain": [
       "'@AppleSupport causing the reply to be disregarded and the tapped notification under the keyboard is opened😡😡😡'"
      ]
     },
     "execution_count": 7,
     "metadata": {},
     "output_type": "execute_result"
    }
   ],
   "source": [
    "data['text'][0] "
   ]
  },
  {
   "cell_type": "markdown",
   "id": "84e64b5e",
   "metadata": {},
   "source": [
    "### lowercase"
   ]
  },
  {
   "cell_type": "code",
   "execution_count": 8,
   "id": "a1877499",
   "metadata": {},
   "outputs": [],
   "source": [
    "lowered_data = data['text'].str.lower() "
   ]
  },
  {
   "cell_type": "code",
   "execution_count": 9,
   "id": "5e281958",
   "metadata": {},
   "outputs": [
    {
     "data": {
      "text/plain": [
       "0     @applesupport causing the reply to be disregar...\n",
       "1     @105835 your business means a lot to us. pleas...\n",
       "2     @76328 i really hope you all change but i'm su...\n",
       "3     @105836 livechat is online at the moment - htt...\n",
       "4     @virgintrains see attached error message. i've...\n",
       "                            ...                        \n",
       "88    @105860 i wish amazon had an option of where i...\n",
       "89    they reschedule my shit for tomorrow https://t...\n",
       "90    @105861 hey sara, sorry to hear of the issues ...\n",
       "91    @tesco bit of both - finding the layout cumber...\n",
       "92    @105861 if that doesn't help please dm your fu...\n",
       "Name: text, Length: 93, dtype: object"
      ]
     },
     "execution_count": 9,
     "metadata": {},
     "output_type": "execute_result"
    }
   ],
   "source": [
    "lowered_data "
   ]
  },
  {
   "cell_type": "markdown",
   "id": "556e057b",
   "metadata": {},
   "source": [
    "### applying regular expression to remove html from text"
   ]
  },
  {
   "cell_type": "code",
   "execution_count": 10,
   "id": "dbe629eb",
   "metadata": {},
   "outputs": [],
   "source": [
    "import re\n",
    "\n",
    "def remove_html_tags(text):\n",
    "    clean_text = re.sub('<.*?>', '', text)\n",
    "    return clean_text"
   ]
  },
  {
   "cell_type": "code",
   "execution_count": 11,
   "id": "305f3855",
   "metadata": {},
   "outputs": [],
   "source": [
    "lowered_data = lowered_data.apply(remove_html_tags) "
   ]
  },
  {
   "cell_type": "markdown",
   "id": "a28615c9",
   "metadata": {},
   "source": [
    "#### remove urls with regular expressions"
   ]
  },
  {
   "cell_type": "code",
   "execution_count": 12,
   "id": "1779f07a",
   "metadata": {},
   "outputs": [],
   "source": [
    "def remove_url(text):\n",
    "    pattern=re.compile(r'https?://\\S+|www\\.\\S+')\n",
    "    return pattern.sub(\"\",text)"
   ]
  },
  {
   "cell_type": "code",
   "execution_count": 13,
   "id": "02399acf",
   "metadata": {},
   "outputs": [],
   "source": [
    "lowered_data = lowered_data.apply(remove_url) "
   ]
  },
  {
   "cell_type": "markdown",
   "id": "fc8c09fa",
   "metadata": {},
   "source": [
    "### String Punctualtion"
   ]
  },
  {
   "cell_type": "code",
   "execution_count": 14,
   "id": "9fbba3de",
   "metadata": {},
   "outputs": [],
   "source": [
    "import string "
   ]
  },
  {
   "cell_type": "code",
   "execution_count": 15,
   "id": "107a7c41",
   "metadata": {},
   "outputs": [],
   "source": [
    "exclude = string.punctuation"
   ]
  },
  {
   "cell_type": "code",
   "execution_count": 16,
   "id": "487d6e35",
   "metadata": {},
   "outputs": [
    {
     "name": "stdout",
     "output_type": "stream",
     "text": [
      "!\"#$%&'()*+,-./:;<=>?@[\\]^_`{|}~\n"
     ]
    }
   ],
   "source": [
    "print(exclude) "
   ]
  },
  {
   "cell_type": "code",
   "execution_count": 17,
   "id": "07342bec",
   "metadata": {},
   "outputs": [],
   "source": [
    "def remove_pun(text):\n",
    "    for char in exclude:\n",
    "        text = text.replace(char,\"\")\n",
    "    return text "
   ]
  },
  {
   "cell_type": "code",
   "execution_count": 18,
   "id": "191908d2",
   "metadata": {},
   "outputs": [],
   "source": [
    "lowered_data = lowered_data.apply(remove_pun)  "
   ]
  },
  {
   "cell_type": "code",
   "execution_count": 19,
   "id": "3adbb569",
   "metadata": {},
   "outputs": [],
   "source": [
    "# inbuilt method for faster processing to remove the punctuation\n",
    "def remove_punc1(text):\n",
    "    return text.translate(str.maketrans(\"\",\"\",exclude))"
   ]
  },
  {
   "cell_type": "code",
   "execution_count": 20,
   "id": "da4b7678",
   "metadata": {},
   "outputs": [],
   "source": [
    "lowered_data = lowered_data.apply(remove_punc1)"
   ]
  },
  {
   "cell_type": "markdown",
   "id": "a874156a",
   "metadata": {},
   "source": [
    "#### Remove Slags"
   ]
  },
  {
   "cell_type": "raw",
   "id": "816875c0",
   "metadata": {},
   "source": [
    "# repo for large no. of slangs\n",
    "https://github.com/rishabhverma17/sms_slang_translator/blob/master/slang.txt"
   ]
  },
  {
   "cell_type": "code",
   "execution_count": 21,
   "id": "e93411e6",
   "metadata": {},
   "outputs": [
    {
     "name": "stderr",
     "output_type": "stream",
     "text": [
      "C:\\Users\\Er. Aadil Ji\\AppData\\Local\\Programs\\Python\\Python39\\lib\\site-packages\\requests\\__init__.py:102: RequestsDependencyWarning: urllib3 (1.26.9) or chardet (5.0.0)/charset_normalizer (2.0.12) doesn't match a supported version!\n",
      "  warnings.warn(\"urllib3 ({}) or chardet ({})/charset_normalizer ({}) doesn't match a supported \"\n"
     ]
    },
    {
     "name": "stdout",
     "output_type": "stream",
     "text": [
      "<Response [200]>\n"
     ]
    }
   ],
   "source": [
    "import requests\n",
    "\n",
    "# URL of the slang file on GitHub\n",
    "slang_url = \"https://raw.githubusercontent.com/rishabhverma17/sms_slang_translator/master/slang.txt\"\n",
    "\n",
    "response = requests.get(slang_url) \n",
    "print(response) "
   ]
  },
  {
   "cell_type": "code",
   "execution_count": 22,
   "id": "2230e63e",
   "metadata": {},
   "outputs": [
    {
     "name": "stdout",
     "output_type": "stream",
     "text": [
      "['AFAIK=As Far As I Know', 'AFK=Away From Keyboard', 'ASAP=As Soon As Possible', 'ATK=At The Keyboard', 'ATM=At The Moment', 'A3=Anytime, Anywhere, Anyplace', 'BAK=Back At Keyboard', 'BBL=Be Back Later', 'BBS=Be Back Soon', 'BFN=Bye For Now', 'B4N=Bye For Now', 'BRB=Be Right Back', 'BRT=Be Right There', 'BTW=By The Way', 'B4=Before', 'B4N=Bye For Now', 'CU=See You', 'CUL8R=See You Later', 'CYA=See You', 'FAQ=Frequently Asked Questions', 'FC=Fingers Crossed', \"FWIW=For What It's Worth\", 'FYI=For Your Information', 'GAL=Get A Life', 'GG=Good Game', 'GN=Good Night', 'GMTA=Great Minds Think Alike', 'GR8=Great!', 'G9=Genius', 'IC=I See', 'ICQ=I Seek you (also a chat program)', 'ILU=ILU: I Love You', 'IMHO=In My Honest/Humble Opinion', 'IMO=In My Opinion', 'IOW=In Other Words', 'IRL=In Real Life', 'KISS=Keep It Simple, Stupid', 'LDR=Long Distance Relationship', 'LMAO=Laugh My A.. Off', 'LOL=Laughing Out Loud', 'LTNS=Long Time No See', 'L8R=Later', 'MTE=My Thoughts Exactly', 'M8=Mate', 'NRN=No Reply Necessary', 'OIC=Oh I See', 'PITA=Pain In The A..', 'PRT=Party', 'PRW=Parents Are Watching', 'QPSA?\\tQue Pasa?', 'ROFL=Rolling On The Floor Laughing', 'ROFLOL=Rolling On The Floor Laughing Out Loud', 'ROTFLMAO=Rolling On The Floor Laughing My A.. Off', 'SK8=Skate', 'STATS=Your sex and age', 'ASL=Age, Sex, Location', 'THX=Thank You', 'TTFN=Ta-Ta For Now!', 'TTYL=Talk To You Later', 'U=You', 'U2=You Too', 'U4E=Yours For Ever', 'WB=Welcome Back', 'WTF=What The F...', 'WTG=Way To Go!', 'WUF=Where Are You From?', 'W8=Wait...', '7K=Sick:-D Laugher', 'TFW – That feeling when. TFW internet slang often goes in a caption to an image.', 'MFW – My face when', 'MRW – My reaction when', 'IFYP – I feel your pain', 'LOL – Laughing out loud', 'TNTL – Trying not to laugh', 'JK – Just kidding', 'IDC – I don’t care', 'ILY – I love you', 'IMU – I miss you', 'ADIH – Another day in hell', 'IDC – I don’t care', 'ZZZ – Sleeping, bored, tired', 'WYWH – Wish you were here', 'TIME – Tears in my eyes', 'BAE – Before anyone else', 'FIMH – Forever in my heart', 'BSAAW – Big smile and a wink', 'BWL – Bursting with laughter', 'LMAO – Laughing my a** off', 'BFF: Best friends forever', 'CSL – Can’t stop laughing']\n"
     ]
    }
   ],
   "source": [
    "if response.status_code == 200:\n",
    "    slang_lines = response.text.splitlines()\n",
    "\n",
    "print(slang_lines) "
   ]
  },
  {
   "cell_type": "code",
   "execution_count": 23,
   "id": "7baa07b3",
   "metadata": {},
   "outputs": [],
   "source": [
    "slang_dict = {}\n",
    "for line in slang_lines:\n",
    "    if '=' in line or '-' in line or ':' in line or '?' in line:\n",
    "        line = line.replace(\"–\", \"=\").replace(\":\", \"=\").replace(\"?\", \"=\")\n",
    "        key,value = line.strip().split('=',1)\n",
    "        slang_dict[key.strip()] = value.strip() "
   ]
  },
  {
   "cell_type": "code",
   "execution_count": 24,
   "id": "a591ccda",
   "metadata": {},
   "outputs": [
    {
     "data": {
      "text/plain": [
       "{'AFAIK': 'As Far As I Know',\n",
       " 'AFK': 'Away From Keyboard',\n",
       " 'ASAP': 'As Soon As Possible',\n",
       " 'ATK': 'At The Keyboard',\n",
       " 'ATM': 'At The Moment',\n",
       " 'A3': 'Anytime, Anywhere, Anyplace',\n",
       " 'BAK': 'Back At Keyboard',\n",
       " 'BBL': 'Be Back Later',\n",
       " 'BBS': 'Be Back Soon',\n",
       " 'BFN': 'Bye For Now',\n",
       " 'B4N': 'Bye For Now',\n",
       " 'BRB': 'Be Right Back',\n",
       " 'BRT': 'Be Right There',\n",
       " 'BTW': 'By The Way',\n",
       " 'B4': 'Before',\n",
       " 'CU': 'See You',\n",
       " 'CUL8R': 'See You Later',\n",
       " 'CYA': 'See You',\n",
       " 'FAQ': 'Frequently Asked Questions',\n",
       " 'FC': 'Fingers Crossed',\n",
       " 'FWIW': \"For What It's Worth\",\n",
       " 'FYI': 'For Your Information',\n",
       " 'GAL': 'Get A Life',\n",
       " 'GG': 'Good Game',\n",
       " 'GN': 'Good Night',\n",
       " 'GMTA': 'Great Minds Think Alike',\n",
       " 'GR8': 'Great!',\n",
       " 'G9': 'Genius',\n",
       " 'IC': 'I See',\n",
       " 'ICQ': 'I Seek you (also a chat program)',\n",
       " 'ILU': 'ILU= I Love You',\n",
       " 'IMHO': 'In My Honest/Humble Opinion',\n",
       " 'IMO': 'In My Opinion',\n",
       " 'IOW': 'In Other Words',\n",
       " 'IRL': 'In Real Life',\n",
       " 'KISS': 'Keep It Simple, Stupid',\n",
       " 'LDR': 'Long Distance Relationship',\n",
       " 'LMAO': 'Laugh My A.. Off',\n",
       " 'LOL': 'Laughing Out Loud',\n",
       " 'LTNS': 'Long Time No See',\n",
       " 'L8R': 'Later',\n",
       " 'MTE': 'My Thoughts Exactly',\n",
       " 'M8': 'Mate',\n",
       " 'NRN': 'No Reply Necessary',\n",
       " 'OIC': 'Oh I See',\n",
       " 'PITA': 'Pain In The A..',\n",
       " 'PRT': 'Party',\n",
       " 'PRW': 'Parents Are Watching',\n",
       " 'QPSA': 'Que Pasa=',\n",
       " 'ROFL': 'Rolling On The Floor Laughing',\n",
       " 'ROFLOL': 'Rolling On The Floor Laughing Out Loud',\n",
       " 'ROTFLMAO': 'Rolling On The Floor Laughing My A.. Off',\n",
       " 'SK8': 'Skate',\n",
       " 'STATS': 'Your sex and age',\n",
       " 'ASL': 'Age, Sex, Location',\n",
       " 'THX': 'Thank You',\n",
       " 'TTFN': 'Ta-Ta For Now!',\n",
       " 'TTYL': 'Talk To You Later',\n",
       " 'U': 'You',\n",
       " 'U2': 'You Too',\n",
       " 'U4E': 'Yours For Ever',\n",
       " 'WB': 'Welcome Back',\n",
       " 'WTF': 'What The F...',\n",
       " 'WTG': 'Way To Go!',\n",
       " 'WUF': 'Where Are You From=',\n",
       " 'W8': 'Wait...',\n",
       " '7K': 'Sick=-D Laugher',\n",
       " 'BFF': 'Best friends forever'}"
      ]
     },
     "execution_count": 24,
     "metadata": {},
     "output_type": "execute_result"
    }
   ],
   "source": [
    "slang_dict "
   ]
  },
  {
   "cell_type": "code",
   "execution_count": 25,
   "id": "43abc849",
   "metadata": {},
   "outputs": [],
   "source": [
    "def tweet_slags(text):\n",
    "    new_text=[]\n",
    "    for w in text.split():\n",
    "        if w.upper() in slang_dict:\n",
    "            new_text.append(slang_dict[w.upper()])\n",
    "        else:\n",
    "            new_text.append(w)\n",
    "    return \" \".join(new_text) "
   ]
  },
  {
   "cell_type": "code",
   "execution_count": 26,
   "id": "aff195b2",
   "metadata": {},
   "outputs": [
    {
     "data": {
      "text/plain": [
       "0     applesupport causing the reply to be disregard...\n",
       "1     105835 your business means a lot to us please ...\n",
       "2     76328 i really hope you all change but im sure...\n",
       "3     105836 livechat is online at the moment or con...\n",
       "4     virgintrains see attached error message ive tr...\n",
       "                            ...                        \n",
       "88    105860 i wish amazon had an option of where i ...\n",
       "89                 they reschedule my shit for tomorrow\n",
       "90    105861 hey sara sorry to hear of the issues yo...\n",
       "91    tesco bit of both finding the layout cumbersom...\n",
       "92    105861 if that doesnt help please dm your full...\n",
       "Name: text, Length: 93, dtype: object"
      ]
     },
     "execution_count": 26,
     "metadata": {},
     "output_type": "execute_result"
    }
   ],
   "source": [
    "lowered_data.apply(tweet_slags) "
   ]
  },
  {
   "cell_type": "markdown",
   "id": "20d8a5f7",
   "metadata": {},
   "source": [
    "#### Spelling Correction"
   ]
  },
  {
   "cell_type": "code",
   "execution_count": 27,
   "id": "9ad05e5c",
   "metadata": {},
   "outputs": [
    {
     "name": "stderr",
     "output_type": "stream",
     "text": [
      "C:\\Users\\Er. Aadil Ji\\AppData\\Local\\Programs\\Python\\Python39\\lib\\site-packages\\scipy\\__init__.py:146: UserWarning: A NumPy version >=1.17.3 and <1.25.0 is required for this version of SciPy (detected version 1.25.2\n",
      "  warnings.warn(f\"A NumPy version >={np_minversion} and <{np_maxversion}\"\n"
     ]
    }
   ],
   "source": [
    "from textblob import TextBlob\n",
    "\n",
    "corrected_data = lowered_data.apply(lambda x: str(TextBlob(str(x)).correct()))\n"
   ]
  },
  {
   "cell_type": "code",
   "execution_count": 28,
   "id": "6b0d75dc",
   "metadata": {},
   "outputs": [
    {
     "data": {
      "text/plain": [
       "0     applesupport causing the reply to be disregard...\n",
       "1     105835 your business means a lot to us please ...\n",
       "2     76328 i really hope you all change but in sure...\n",
       "3     105836 livechat is online at the moment   or c...\n",
       "4     virgintrains see attached error message give t...\n",
       "                            ...                        \n",
       "88    105860 i wish amazon had an option of where i ...\n",
       "89                  they schedule my shit for tomorrow \n",
       "90    105861 hey sera sorry to hear of the issues yo...\n",
       "91    test bit of both  finding the layout cumbersom...\n",
       "92    105861 if that doesn help please do your full ...\n",
       "Name: text, Length: 93, dtype: object"
      ]
     },
     "execution_count": 28,
     "metadata": {},
     "output_type": "execute_result"
    }
   ],
   "source": [
    "corrected_data "
   ]
  },
  {
   "cell_type": "raw",
   "id": "9698a267",
   "metadata": {},
   "source": [
    "# if we want to apply the spelling correction to the entire dataframe itself\n",
    "\n",
    "from textblob import TextBlob\n",
    "\n",
    "# Assuming df is your DataFrame\n",
    "df = df.applymap(lambda x: str(TextBlob(str(x)).correct()))"
   ]
  },
  {
   "cell_type": "markdown",
   "id": "29d42e33",
   "metadata": {},
   "source": [
    "### Stop word removing"
   ]
  },
  {
   "cell_type": "code",
   "execution_count": 29,
   "id": "9a7e576d",
   "metadata": {},
   "outputs": [],
   "source": [
    "import nltk\n",
    "from nltk.corpus import stopwords "
   ]
  },
  {
   "cell_type": "code",
   "execution_count": 30,
   "id": "02b22d30",
   "metadata": {},
   "outputs": [
    {
     "name": "stderr",
     "output_type": "stream",
     "text": [
      "[nltk_data] Downloading package stopwords to C:\\Users\\Er. Aadil\n",
      "[nltk_data]     Ji\\AppData\\Roaming\\nltk_data...\n",
      "[nltk_data]   Package stopwords is already up-to-date!\n"
     ]
    },
    {
     "data": {
      "text/plain": [
       "True"
      ]
     },
     "execution_count": 30,
     "metadata": {},
     "output_type": "execute_result"
    }
   ],
   "source": [
    "nltk.download('stopwords')"
   ]
  },
  {
   "cell_type": "code",
   "execution_count": 31,
   "id": "46bd6bcc",
   "metadata": {},
   "outputs": [],
   "source": [
    "from nltk.corpus import stopwords\n",
    "\n",
    "def remove_stopwords(text):\n",
    "    # Assuming the input text is a string\n",
    "    words = text.split()\n",
    "    filtered_words = [word.strip() for word in words if word.lower() not in stopwords.words(\"english\")]\n",
    "    return \" \".join(filtered_words)"
   ]
  },
  {
   "cell_type": "code",
   "execution_count": 32,
   "id": "0ccdbab2",
   "metadata": {},
   "outputs": [],
   "source": [
    "corrected_data = corrected_data.apply(remove_stopwords) "
   ]
  },
  {
   "cell_type": "code",
   "execution_count": 33,
   "id": "6ee5821e",
   "metadata": {},
   "outputs": [
    {
     "data": {
      "text/plain": [
       "0     applesupport causing reply disregarded tapped ...\n",
       "1     105835 business means lot us please name zip c...\n",
       "2               76328 really hope change sure wont dont\n",
       "3     105836 livechat online moment contact 03331 03...\n",
       "4     virgintrains see attached error message give t...\n",
       "                            ...                        \n",
       "88    105860 wish amazon option get shipped store av...\n",
       "89                               schedule shit tomorrow\n",
       "90    105861 hey sera sorry hear issues ask lay spee...\n",
       "91    test bit finding layout cumbersome removing it...\n",
       "92    105861 help please full name address email inc...\n",
       "Name: text, Length: 93, dtype: object"
      ]
     },
     "execution_count": 33,
     "metadata": {},
     "output_type": "execute_result"
    }
   ],
   "source": [
    "corrected_data "
   ]
  },
  {
   "cell_type": "markdown",
   "id": "56b27954",
   "metadata": {},
   "source": [
    "#### Remove Emoji"
   ]
  },
  {
   "cell_type": "code",
   "execution_count": 34,
   "id": "14e449f4",
   "metadata": {},
   "outputs": [
    {
     "name": "stdout",
     "output_type": "stream",
     "text": [
      "Requirement already satisfied: demoji in c:\\python311\\lib\\site-packages (1.1.0)\n"
     ]
    },
    {
     "name": "stderr",
     "output_type": "stream",
     "text": [
      "DEPRECATION: --no-binary currently disables reading from the cache of locally built wheels. In the future --no-binary will not influence the wheel cache. pip 23.1 will enforce this behaviour change. A possible replacement is to use the --no-cache-dir option. You can use the flag --use-feature=no-binary-enable-wheel-cache to test the upcoming behaviour. Discussion can be found at https://github.com/pypa/pip/issues/11453\n",
      "\n",
      "[notice] A new release of pip available: 22.3 -> 24.0\n",
      "[notice] To update, run: python.exe -m pip install --upgrade pip\n"
     ]
    }
   ],
   "source": [
    "!pip install demoji --no-binary :all:"
   ]
  },
  {
   "cell_type": "code",
   "execution_count": 35,
   "id": "f87b38ad",
   "metadata": {},
   "outputs": [],
   "source": [
    "def remove_emojis_manually(text):\n",
    "    emoji_pattern = re.compile(\"[\"\n",
    "                               u\"\\U0001F600-\\U0001F64F\"  # emoticons\n",
    "                               u\"\\U0001F300-\\U0001F5FF\"  # symbols & pictographs\n",
    "                               u\"\\U0001F680-\\U0001F6FF\"  # transport & map symbols\n",
    "                               u\"\\U0001F700-\\U0001F77F\"  # alchemical symbols\n",
    "                               u\"\\U0001F780-\\U0001F7FF\"  # Geometric Shapes Extended\n",
    "                               u\"\\U0001F800-\\U0001F8FF\"  # Supplemental Arrows-C\n",
    "                               u\"\\U0001F900-\\U0001F9FF\"  # Supplemental Symbols and Pictographs\n",
    "                               u\"\\U0001FA00-\\U0001FA6F\"  # Chess Symbols\n",
    "                               u\"\\U0001FA70-\\U0001FAFF\"  # Symbols and Pictographs Extended-A\n",
    "                               u\"\\U00002702-\\U000027B0\"  # Dingbats\n",
    "                               u\"\\U000024C2-\\U0001F251\"\n",
    "                               \"]+\", flags=re.UNICODE)\n",
    "    clean_text = emoji_pattern.sub(r'', text)\n",
    "    return clean_text"
   ]
  },
  {
   "cell_type": "code",
   "execution_count": 36,
   "id": "228582d3",
   "metadata": {},
   "outputs": [],
   "source": [
    "corrected_data = corrected_data.apply(remove_emojis_manually) "
   ]
  },
  {
   "cell_type": "markdown",
   "id": "1f5730f6",
   "metadata": {},
   "source": [
    "#### Tokenization`"
   ]
  },
  {
   "cell_type": "code",
   "execution_count": 37,
   "id": "d24bac76",
   "metadata": {},
   "outputs": [],
   "source": [
    "import spacy\n",
    "\n",
    "# Load the spaCy English model\n",
    "nlp = spacy.load(\"en_core_web_sm\")"
   ]
  },
  {
   "cell_type": "code",
   "execution_count": 38,
   "id": "477ba064",
   "metadata": {},
   "outputs": [],
   "source": [
    "def tokenize_sentences(text):\n",
    "    doc = nlp(text)\n",
    "    sentences = [sent.text for sent in doc.sents]\n",
    "    return sentences\n",
    "\n",
    "# Define a function for word tokenization using spaCy\n",
    "def tokenize_words(text):\n",
    "    doc = nlp(text)\n",
    "    words = [token.text for token in doc]\n",
    "    return words"
   ]
  },
  {
   "cell_type": "code",
   "execution_count": 39,
   "id": "898f6ff4",
   "metadata": {},
   "outputs": [],
   "source": [
    "# Apply both sentence and word tokenization to the entire Series\n",
    "tokenized_sentences = corrected_data.apply(tokenize_sentences)\n",
    "tokenized_words = corrected_data.apply(tokenize_words)"
   ]
  },
  {
   "cell_type": "code",
   "execution_count": 40,
   "id": "9204e086",
   "metadata": {},
   "outputs": [
    {
     "data": {
      "text/plain": [
       "0     [applesupport causing reply disregarded tapped...\n",
       "1     [105835 business means lot us please name zip ...\n",
       "2             [76328 really hope change sure wont dont]\n",
       "3     [105836 livechat online moment contact 03331 0...\n",
       "4     [virgintrains see attached error message give ...\n",
       "                            ...                        \n",
       "88    [105860 wish amazon option get shipped store a...\n",
       "89                             [schedule shit tomorrow]\n",
       "90    [105861, hey sera sorry hear issues ask lay sp...\n",
       "91    [test bit finding layout cumbersome removing i...\n",
       "92    [105861 help please full name address email in...\n",
       "Name: text, Length: 93, dtype: object"
      ]
     },
     "execution_count": 40,
     "metadata": {},
     "output_type": "execute_result"
    }
   ],
   "source": [
    "tokenized_sentences"
   ]
  },
  {
   "cell_type": "code",
   "execution_count": 41,
   "id": "18febec2",
   "metadata": {},
   "outputs": [
    {
     "data": {
      "text/plain": [
       "['applesupport causing reply disregarded tapped ratification keyboard opened']"
      ]
     },
     "execution_count": 41,
     "metadata": {},
     "output_type": "execute_result"
    }
   ],
   "source": [
    "tokenized_sentences[0] "
   ]
  },
  {
   "cell_type": "code",
   "execution_count": 42,
   "id": "6c107f92",
   "metadata": {},
   "outputs": [
    {
     "data": {
      "text/plain": [
       "['applesupport hi apple i’ve concern latest slow phone happy solution please']"
      ]
     },
     "execution_count": 42,
     "metadata": {},
     "output_type": "execute_result"
    }
   ],
   "source": [
    "tokenized_sentences[12]  "
   ]
  },
  {
   "cell_type": "code",
   "execution_count": 43,
   "id": "aaa82299",
   "metadata": {},
   "outputs": [
    {
     "data": {
      "text/plain": [
       "0     [applesupport, causing, reply, disregarded, ta...\n",
       "1     [105835, business, means, lot, us, please, nam...\n",
       "2     [76328, really, hope, change, sure, wo, nt, do...\n",
       "3     [105836, livechat, online, moment, contact, 03...\n",
       "4     [virgintrains, see, attached, error, message, ...\n",
       "                            ...                        \n",
       "88    [105860, wish, amazon, option, get, shipped, s...\n",
       "89                           [schedule, shit, tomorrow]\n",
       "90    [105861, hey, sera, sorry, hear, issues, ask, ...\n",
       "91    [test, bit, finding, layout, cumbersome, remov...\n",
       "92    [105861, help, please, full, name, address, em...\n",
       "Name: text, Length: 93, dtype: object"
      ]
     },
     "execution_count": 43,
     "metadata": {},
     "output_type": "execute_result"
    }
   ],
   "source": [
    "tokenized_words"
   ]
  },
  {
   "cell_type": "code",
   "execution_count": 44,
   "id": "3a53eda5",
   "metadata": {},
   "outputs": [
    {
     "data": {
      "text/plain": [
       "['applesupport',\n",
       " 'causing',\n",
       " 'reply',\n",
       " 'disregarded',\n",
       " 'tapped',\n",
       " 'ratification',\n",
       " 'keyboard',\n",
       " 'opened']"
      ]
     },
     "execution_count": 44,
     "metadata": {},
     "output_type": "execute_result"
    }
   ],
   "source": [
    "tokenized_words[0]"
   ]
  },
  {
   "cell_type": "markdown",
   "id": "b4961a1a",
   "metadata": {},
   "source": [
    "#### Stemming and Lemmatization"
   ]
  },
  {
   "cell_type": "code",
   "execution_count": 45,
   "id": "d20de741",
   "metadata": {},
   "outputs": [],
   "source": [
    "from nltk.stem import PorterStemmer\n",
    "\n",
    "\n",
    "def stemming(text):\n",
    "    obj = PorterStemmer() \n",
    "    \n",
    "    stem_word = [obj.stem(word) for word in text.split()]\n",
    "\n",
    "    return stem_word "
   ]
  },
  {
   "cell_type": "code",
   "execution_count": 46,
   "id": "d13c8d2e",
   "metadata": {},
   "outputs": [],
   "source": [
    "stemmed_data = corrected_data.apply(stemming) "
   ]
  },
  {
   "cell_type": "code",
   "execution_count": 47,
   "id": "424b1b84",
   "metadata": {},
   "outputs": [
    {
     "data": {
      "text/plain": [
       "0     [applesupport, caus, repli, disregard, tap, ra...\n",
       "1     [105835, busi, mean, lot, us, pleas, name, zip...\n",
       "2        [76328, realli, hope, chang, sure, wont, dont]\n",
       "3     [105836, livechat, onlin, moment, contact, 033...\n",
       "4     [virgintrain, see, attach, error, messag, give...\n",
       "                            ...                        \n",
       "88    [105860, wish, amazon, option, get, ship, stor...\n",
       "89                            [schedul, shit, tomorrow]\n",
       "90    [105861, hey, sera, sorri, hear, issu, ask, la...\n",
       "91    [test, bit, find, layout, cumbersom, remov, it...\n",
       "92    [105861, help, pleas, full, name, address, ema...\n",
       "Name: text, Length: 93, dtype: object"
      ]
     },
     "execution_count": 47,
     "metadata": {},
     "output_type": "execute_result"
    }
   ],
   "source": [
    "stemmed_data"
   ]
  },
  {
   "cell_type": "code",
   "execution_count": 48,
   "id": "82510aa8",
   "metadata": {},
   "outputs": [
    {
     "data": {
      "text/plain": [
       "['applesupport',\n",
       " 'caus',\n",
       " 'repli',\n",
       " 'disregard',\n",
       " 'tap',\n",
       " 'ratif',\n",
       " 'keyboard',\n",
       " 'open']"
      ]
     },
     "execution_count": 48,
     "metadata": {},
     "output_type": "execute_result"
    }
   ],
   "source": [
    "stemmed_data[0] "
   ]
  },
  {
   "cell_type": "code",
   "execution_count": 49,
   "id": "c8c0f724",
   "metadata": {},
   "outputs": [],
   "source": [
    "from nltk.stem import WordNetLemmatizer\n",
    "\n",
    "def lemmatization(text):\n",
    "    words = text.split()\n",
    "\n",
    "    lemmatizer = WordNetLemmatizer()\n",
    "\n",
    "    lemmatized_words = [lemmatizer.lemmatize(word) for word in words]\n",
    "\n",
    "    return lemmatized_words"
   ]
  },
  {
   "cell_type": "code",
   "execution_count": 50,
   "id": "a1fdac8e",
   "metadata": {},
   "outputs": [],
   "source": [
    "lemmatized_data = corrected_data.apply(lemmatization)  "
   ]
  },
  {
   "cell_type": "code",
   "execution_count": 51,
   "id": "985a7506",
   "metadata": {},
   "outputs": [
    {
     "data": {
      "text/plain": [
       "0     [applesupport, causing, reply, disregarded, ta...\n",
       "1     [105835, business, mean, lot, u, please, name,...\n",
       "2       [76328, really, hope, change, sure, wont, dont]\n",
       "3     [105836, livechat, online, moment, contact, 03...\n",
       "4     [virgintrains, see, attached, error, message, ...\n",
       "                            ...                        \n",
       "88    [105860, wish, amazon, option, get, shipped, s...\n",
       "89                           [schedule, shit, tomorrow]\n",
       "90    [105861, hey, serum, sorry, hear, issue, ask, ...\n",
       "91    [test, bit, finding, layout, cumbersome, remov...\n",
       "92    [105861, help, please, full, name, address, em...\n",
       "Name: text, Length: 93, dtype: object"
      ]
     },
     "execution_count": 51,
     "metadata": {},
     "output_type": "execute_result"
    }
   ],
   "source": [
    "lemmatized_data"
   ]
  },
  {
   "cell_type": "code",
   "execution_count": 52,
   "id": "f0947e3d",
   "metadata": {},
   "outputs": [
    {
     "data": {
      "text/plain": [
       "['applesupport',\n",
       " 'causing',\n",
       " 'reply',\n",
       " 'disregarded',\n",
       " 'tapped',\n",
       " 'ratification',\n",
       " 'keyboard',\n",
       " 'opened']"
      ]
     },
     "execution_count": 52,
     "metadata": {},
     "output_type": "execute_result"
    }
   ],
   "source": [
    "lemmatized_data[0]"
   ]
  }
 ],
 "metadata": {
  "kernelspec": {
   "display_name": "Python 3 (ipykernel)",
   "language": "python",
   "name": "python3"
  },
  "language_info": {
   "codemirror_mode": {
    "name": "ipython",
    "version": 3
   },
   "file_extension": ".py",
   "mimetype": "text/x-python",
   "name": "python",
   "nbconvert_exporter": "python",
   "pygments_lexer": "ipython3",
   "version": "3.9.7"
  }
 },
 "nbformat": 4,
 "nbformat_minor": 5
}
